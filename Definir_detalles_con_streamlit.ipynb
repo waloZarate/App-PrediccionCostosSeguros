{
 "cells": [
  {
   "cell_type": "markdown",
   "id": "4cb138cf-19ef-446b-87b2-4681b2f030b8",
   "metadata": {},
   "source": [
    "## Predictor de costos por seguro basado en los atributos de las personas."
   ]
  },
  {
   "cell_type": "code",
   "execution_count": 1,
   "id": "aae5377a-3d8d-4300-9c21-d82892b4ad57",
   "metadata": {},
   "outputs": [],
   "source": [
    "import pickle\n",
    "import numpy as np"
   ]
  },
  {
   "cell_type": "markdown",
   "id": "11d62bb9-b6d6-4ca1-9c42-bb5d16ecef66",
   "metadata": {},
   "source": [
    "- Cargar el modelo desde el directorio local"
   ]
  },
  {
   "cell_type": "code",
   "execution_count": 2,
   "id": "9e10b944-0f08-44da-b868-80311a0e4ba1",
   "metadata": {},
   "outputs": [],
   "source": [
    "loaded_model = pickle.load(open('streamlit_insurance_predictcharges.pkl', 'rb'))"
   ]
  },
  {
   "cell_type": "code",
   "execution_count": 3,
   "id": "465cde74-7a27-4daa-9eea-a6706977249a",
   "metadata": {},
   "outputs": [
    {
     "name": "stderr",
     "output_type": "stream",
     "text": [
      "2021-11-17 04:03:32.710 INFO    numexpr.utils: NumExpr defaulting to 2 threads.\n"
     ]
    }
   ],
   "source": [
    "import streamlit as st"
   ]
  },
  {
   "cell_type": "markdown",
   "id": "7af9f0b6-96ca-4ec1-aa33-a13f5ef27ab2",
   "metadata": {},
   "source": [
    "- Creando Titulos "
   ]
  },
  {
   "cell_type": "code",
   "execution_count": 4,
   "id": "75eb5344-bd8b-4d21-b27a-8609862fc16f",
   "metadata": {},
   "outputs": [
    {
     "ename": "TomlDecodeError",
     "evalue": "Key group not on a line by itself. (line 1 column 1 char 0)",
     "output_type": "error",
     "traceback": [
      "\u001b[1;31m---------------------------------------------------------------------------\u001b[0m",
      "\u001b[1;31mTomlDecodeError\u001b[0m                           Traceback (most recent call last)",
      "\u001b[1;32m~\\AppData\\Local\\Temp/ipykernel_3512/1196269086.py\u001b[0m in \u001b[0;36m<module>\u001b[1;34m\u001b[0m\n\u001b[1;32m----> 1\u001b[1;33m \u001b[0mst\u001b[0m\u001b[1;33m.\u001b[0m\u001b[0mtitle\u001b[0m\u001b[1;33m(\u001b[0m\u001b[1;34m\"Predict insurance charges\"\u001b[0m\u001b[1;33m)\u001b[0m\u001b[1;33m\u001b[0m\u001b[1;33m\u001b[0m\u001b[0m\n\u001b[0m\u001b[0;32m      2\u001b[0m \u001b[0mst\u001b[0m\u001b[1;33m.\u001b[0m\u001b[0mheader\u001b[0m\u001b[1;33m(\u001b[0m\u001b[1;34m\"Calculating the insurance charges that could be charged by an insurer based on a person's attributes\"\u001b[0m\u001b[1;33m)\u001b[0m\u001b[1;33m\u001b[0m\u001b[1;33m\u001b[0m\u001b[0m\n",
      "\u001b[1;32m~\\anaconda3\\envs\\py2m\\lib\\site-packages\\streamlit\\elements\\markdown.py\u001b[0m in \u001b[0;36mtitle\u001b[1;34m(self, body, anchor)\u001b[0m\n\u001b[0;32m    201\u001b[0m             \u001b[0mtitle_proto\u001b[0m\u001b[1;33m.\u001b[0m\u001b[0mbody\u001b[0m \u001b[1;33m=\u001b[0m \u001b[1;34mf'<h1 data-anchor=\"{anchor}\">{clean_text(body)}</h1>'\u001b[0m\u001b[1;33m\u001b[0m\u001b[1;33m\u001b[0m\u001b[0m\n\u001b[0;32m    202\u001b[0m             \u001b[0mtitle_proto\u001b[0m\u001b[1;33m.\u001b[0m\u001b[0mallow_html\u001b[0m \u001b[1;33m=\u001b[0m \u001b[1;32mTrue\u001b[0m\u001b[1;33m\u001b[0m\u001b[1;33m\u001b[0m\u001b[0m\n\u001b[1;32m--> 203\u001b[1;33m         \u001b[1;32mreturn\u001b[0m \u001b[0mself\u001b[0m\u001b[1;33m.\u001b[0m\u001b[0mdg\u001b[0m\u001b[1;33m.\u001b[0m\u001b[0m_enqueue\u001b[0m\u001b[1;33m(\u001b[0m\u001b[1;34m\"markdown\"\u001b[0m\u001b[1;33m,\u001b[0m \u001b[0mtitle_proto\u001b[0m\u001b[1;33m)\u001b[0m\u001b[1;33m\u001b[0m\u001b[1;33m\u001b[0m\u001b[0m\n\u001b[0m\u001b[0;32m    204\u001b[0m \u001b[1;33m\u001b[0m\u001b[0m\n\u001b[0;32m    205\u001b[0m     \u001b[1;32mdef\u001b[0m \u001b[0mcaption\u001b[0m\u001b[1;33m(\u001b[0m\u001b[0mself\u001b[0m\u001b[1;33m,\u001b[0m \u001b[0mbody\u001b[0m\u001b[1;33m)\u001b[0m\u001b[1;33m:\u001b[0m\u001b[1;33m\u001b[0m\u001b[1;33m\u001b[0m\u001b[0m\n",
      "\u001b[1;32m~\\anaconda3\\envs\\py2m\\lib\\site-packages\\streamlit\\delta_generator.py\u001b[0m in \u001b[0;36m_enqueue\u001b[1;34m(self, delta_type, element_proto, return_value, last_index, element_width, element_height)\u001b[0m\n\u001b[0;32m    374\u001b[0m \u001b[1;33m\u001b[0m\u001b[0m\n\u001b[0;32m    375\u001b[0m         \u001b[1;31m# Warn if an element is being changed but the user isn't running the streamlit server.\u001b[0m\u001b[1;33m\u001b[0m\u001b[1;33m\u001b[0m\u001b[1;33m\u001b[0m\u001b[0m\n\u001b[1;32m--> 376\u001b[1;33m         \u001b[0mst\u001b[0m\u001b[1;33m.\u001b[0m\u001b[0m_maybe_print_use_warning\u001b[0m\u001b[1;33m(\u001b[0m\u001b[1;33m)\u001b[0m\u001b[1;33m\u001b[0m\u001b[1;33m\u001b[0m\u001b[0m\n\u001b[0m\u001b[0;32m    377\u001b[0m \u001b[1;33m\u001b[0m\u001b[0m\n\u001b[0;32m    378\u001b[0m         \u001b[1;31m# Some elements have a method.__name__ != delta_type in proto.\u001b[0m\u001b[1;33m\u001b[0m\u001b[1;33m\u001b[0m\u001b[1;33m\u001b[0m\u001b[0m\n",
      "\u001b[1;32m~\\anaconda3\\envs\\py2m\\lib\\site-packages\\streamlit\\__init__.py\u001b[0m in \u001b[0;36m_maybe_print_use_warning\u001b[1;34m()\u001b[0m\n\u001b[0;32m    517\u001b[0m             )\n\u001b[0;32m    518\u001b[0m \u001b[1;33m\u001b[0m\u001b[0m\n\u001b[1;32m--> 519\u001b[1;33m         elif not _is_running_with_streamlit and _config.get_option(\n\u001b[0m\u001b[0;32m    520\u001b[0m             \u001b[1;34m\"global.showWarningOnDirectExecution\"\u001b[0m\u001b[1;33m\u001b[0m\u001b[1;33m\u001b[0m\u001b[0m\n\u001b[0;32m    521\u001b[0m         ):\n",
      "\u001b[1;32m~\\anaconda3\\envs\\py2m\\lib\\site-packages\\streamlit\\config.py\u001b[0m in \u001b[0;36mget_option\u001b[1;34m(key)\u001b[0m\n\u001b[0;32m    101\u001b[0m     \"\"\"\n\u001b[0;32m    102\u001b[0m     \u001b[1;32mwith\u001b[0m \u001b[0m_config_lock\u001b[0m\u001b[1;33m:\u001b[0m\u001b[1;33m\u001b[0m\u001b[1;33m\u001b[0m\u001b[0m\n\u001b[1;32m--> 103\u001b[1;33m         \u001b[0mconfig_options\u001b[0m \u001b[1;33m=\u001b[0m \u001b[0mget_config_options\u001b[0m\u001b[1;33m(\u001b[0m\u001b[1;33m)\u001b[0m\u001b[1;33m\u001b[0m\u001b[1;33m\u001b[0m\u001b[0m\n\u001b[0m\u001b[0;32m    104\u001b[0m \u001b[1;33m\u001b[0m\u001b[0m\n\u001b[0;32m    105\u001b[0m         \u001b[1;32mif\u001b[0m \u001b[0mkey\u001b[0m \u001b[1;32mnot\u001b[0m \u001b[1;32min\u001b[0m \u001b[0mconfig_options\u001b[0m\u001b[1;33m:\u001b[0m\u001b[1;33m\u001b[0m\u001b[1;33m\u001b[0m\u001b[0m\n",
      "\u001b[1;32m~\\anaconda3\\envs\\py2m\\lib\\site-packages\\streamlit\\config.py\u001b[0m in \u001b[0;36mget_config_options\u001b[1;34m(force_reparse, options_from_flags)\u001b[0m\n\u001b[0;32m   1087\u001b[0m                 \u001b[0mfile_contents\u001b[0m \u001b[1;33m=\u001b[0m \u001b[0minput\u001b[0m\u001b[1;33m.\u001b[0m\u001b[0mread\u001b[0m\u001b[1;33m(\u001b[0m\u001b[1;33m)\u001b[0m\u001b[1;33m\u001b[0m\u001b[1;33m\u001b[0m\u001b[0m\n\u001b[0;32m   1088\u001b[0m \u001b[1;33m\u001b[0m\u001b[0m\n\u001b[1;32m-> 1089\u001b[1;33m             \u001b[0m_update_config_with_toml\u001b[0m\u001b[1;33m(\u001b[0m\u001b[0mfile_contents\u001b[0m\u001b[1;33m,\u001b[0m \u001b[0mfilename\u001b[0m\u001b[1;33m)\u001b[0m\u001b[1;33m\u001b[0m\u001b[1;33m\u001b[0m\u001b[0m\n\u001b[0m\u001b[0;32m   1090\u001b[0m \u001b[1;33m\u001b[0m\u001b[0m\n\u001b[0;32m   1091\u001b[0m         \u001b[1;32mfor\u001b[0m \u001b[0mopt_name\u001b[0m\u001b[1;33m,\u001b[0m \u001b[0mopt_val\u001b[0m \u001b[1;32min\u001b[0m \u001b[0moptions_from_flags\u001b[0m\u001b[1;33m.\u001b[0m\u001b[0mitems\u001b[0m\u001b[1;33m(\u001b[0m\u001b[1;33m)\u001b[0m\u001b[1;33m:\u001b[0m\u001b[1;33m\u001b[0m\u001b[1;33m\u001b[0m\u001b[0m\n",
      "\u001b[1;32m~\\anaconda3\\envs\\py2m\\lib\\site-packages\\streamlit\\config.py\u001b[0m in \u001b[0;36m_update_config_with_toml\u001b[1;34m(raw_toml, where_defined)\u001b[0m\n\u001b[0;32m    964\u001b[0m \u001b[1;33m\u001b[0m\u001b[0m\n\u001b[0;32m    965\u001b[0m     \"\"\"\n\u001b[1;32m--> 966\u001b[1;33m     \u001b[0mparsed_config_file\u001b[0m \u001b[1;33m=\u001b[0m \u001b[0mtoml\u001b[0m\u001b[1;33m.\u001b[0m\u001b[0mloads\u001b[0m\u001b[1;33m(\u001b[0m\u001b[0mraw_toml\u001b[0m\u001b[1;33m)\u001b[0m\u001b[1;33m\u001b[0m\u001b[1;33m\u001b[0m\u001b[0m\n\u001b[0m\u001b[0;32m    967\u001b[0m \u001b[1;33m\u001b[0m\u001b[0m\n\u001b[0;32m    968\u001b[0m     \u001b[1;32mfor\u001b[0m \u001b[0msection\u001b[0m\u001b[1;33m,\u001b[0m \u001b[0moptions\u001b[0m \u001b[1;32min\u001b[0m \u001b[0mparsed_config_file\u001b[0m\u001b[1;33m.\u001b[0m\u001b[0mitems\u001b[0m\u001b[1;33m(\u001b[0m\u001b[1;33m)\u001b[0m\u001b[1;33m:\u001b[0m\u001b[1;33m\u001b[0m\u001b[1;33m\u001b[0m\u001b[0m\n",
      "\u001b[1;32m~\\anaconda3\\envs\\py2m\\lib\\site-packages\\toml\\decoder.py\u001b[0m in \u001b[0;36mloads\u001b[1;34m(s, _dict, decoder)\u001b[0m\n\u001b[0;32m    431\u001b[0m             \u001b[0mline\u001b[0m \u001b[1;33m=\u001b[0m \u001b[0mline\u001b[0m\u001b[1;33m.\u001b[0m\u001b[0msplit\u001b[0m\u001b[1;33m(\u001b[0m\u001b[0msplitstr\u001b[0m\u001b[1;33m,\u001b[0m \u001b[0mi\u001b[0m\u001b[1;33m)\u001b[0m\u001b[1;33m\u001b[0m\u001b[1;33m\u001b[0m\u001b[0m\n\u001b[0;32m    432\u001b[0m             \u001b[1;32mif\u001b[0m \u001b[0mlen\u001b[0m\u001b[1;33m(\u001b[0m\u001b[0mline\u001b[0m\u001b[1;33m)\u001b[0m \u001b[1;33m<\u001b[0m \u001b[0mi\u001b[0m \u001b[1;33m+\u001b[0m \u001b[1;36m1\u001b[0m \u001b[1;32mor\u001b[0m \u001b[0mline\u001b[0m\u001b[1;33m[\u001b[0m\u001b[1;33m-\u001b[0m\u001b[1;36m1\u001b[0m\u001b[1;33m]\u001b[0m\u001b[1;33m.\u001b[0m\u001b[0mstrip\u001b[0m\u001b[1;33m(\u001b[0m\u001b[1;33m)\u001b[0m \u001b[1;33m!=\u001b[0m \u001b[1;34m\"\"\u001b[0m\u001b[1;33m:\u001b[0m\u001b[1;33m\u001b[0m\u001b[1;33m\u001b[0m\u001b[0m\n\u001b[1;32m--> 433\u001b[1;33m                 raise TomlDecodeError(\"Key group not on a line by itself.\",\n\u001b[0m\u001b[0;32m    434\u001b[0m                                       original, pos)\n\u001b[0;32m    435\u001b[0m             \u001b[0mgroups\u001b[0m \u001b[1;33m=\u001b[0m \u001b[0msplitstr\u001b[0m\u001b[1;33m.\u001b[0m\u001b[0mjoin\u001b[0m\u001b[1;33m(\u001b[0m\u001b[0mline\u001b[0m\u001b[1;33m[\u001b[0m\u001b[1;33m:\u001b[0m\u001b[1;33m-\u001b[0m\u001b[1;36m1\u001b[0m\u001b[1;33m]\u001b[0m\u001b[1;33m)\u001b[0m\u001b[1;33m.\u001b[0m\u001b[0msplit\u001b[0m\u001b[1;33m(\u001b[0m\u001b[1;34m'.'\u001b[0m\u001b[1;33m)\u001b[0m\u001b[1;33m\u001b[0m\u001b[1;33m\u001b[0m\u001b[0m\n",
      "\u001b[1;31mTomlDecodeError\u001b[0m: Key group not on a line by itself. (line 1 column 1 char 0)"
     ]
    }
   ],
   "source": [
    "st.title(\"Predict insurance charges\")\n",
    "st.header(\"Calculating the insurance charges that could be charged by an insurer based on a person's attributes\")"
   ]
  },
  {
   "cell_type": "code",
   "execution_count": null,
   "id": "d8bafbee-c233-4fc5-9099-2096a5892498",
   "metadata": {},
   "outputs": [],
   "source": []
  }
 ],
 "metadata": {
  "kernelspec": {
   "display_name": "py2m",
   "language": "python",
   "name": "py2m"
  },
  "language_info": {
   "codemirror_mode": {
    "name": "ipython",
    "version": 3
   },
   "file_extension": ".py",
   "mimetype": "text/x-python",
   "name": "python",
   "nbconvert_exporter": "python",
   "pygments_lexer": "ipython3",
   "version": "3.8.12"
  }
 },
 "nbformat": 4,
 "nbformat_minor": 5
}
